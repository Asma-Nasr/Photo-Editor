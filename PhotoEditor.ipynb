{
 "cells": [
  {
   "cell_type": "markdown",
   "metadata": {},
   "source": [
    "## Task 2: Photo Editor"
   ]
  },
  {
   "cell_type": "markdown",
   "metadata": {},
   "source": [
    "### In this task, you need to create a photo editor that can edit some properties for a certain image such as brightness, contrast and greyscale."
   ]
  },
  {
   "cell_type": "code",
   "execution_count": 1,
   "metadata": {},
   "outputs": [],
   "source": [
    "from PIL import Image, ImageEnhance\n",
    "\n",
    "def photo_editor(image_path, brightness=1.0, contrast=1.0, grayscale=False):\n",
    "    image = Image.open(image_path)\n",
    "    # adjust brightness \n",
    "    if brightness != 1.0:\n",
    "        enhancer = ImageEnhance.Brightness(image)\n",
    "        image = enhancer.enhance(brightness)\n",
    "    # adjust contrast\n",
    "    if contrast != 1.0:\n",
    "        enhancer = ImageEnhance.Contrast(image)\n",
    "        image = enhancer.enhance(contrast)\n",
    "    # grayscale\n",
    "    if grayscale:\n",
    "        image = image.convert('L')\n",
    "    \n",
    "    image.show()\n",
    "\n",
    "# Provide the path to the image for editing\n",
    "image_path = '13.jpg'\n",
    "## To adjut the brightness edit the brightness value\n",
    "## To adjust the contrast change the contrast level\n",
    "## To convert to grayscale change the value True\n",
    "photo_editor(image_path, brightness=0.6, contrast=1.2, grayscale=False)"
   ]
  }
 ],
 "metadata": {
  "kernelspec": {
   "display_name": "base",
   "language": "python",
   "name": "python3"
  },
  "language_info": {
   "codemirror_mode": {
    "name": "ipython",
    "version": 3
   },
   "file_extension": ".py",
   "mimetype": "text/x-python",
   "name": "python",
   "nbconvert_exporter": "python",
   "pygments_lexer": "ipython3",
   "version": "3.11.5"
  }
 },
 "nbformat": 4,
 "nbformat_minor": 2
}
